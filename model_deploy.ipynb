{
 "cells": [
  {
   "cell_type": "code",
   "execution_count": 1,
   "metadata": {},
   "outputs": [],
   "source": [
    "# !pip install gradio ipywidgets"
   ]
  },
  {
   "cell_type": "code",
   "execution_count": 2,
   "metadata": {},
   "outputs": [
    {
     "name": "stdout",
     "output_type": "stream",
     "text": [
      "Overwriting app.py\n"
     ]
    }
   ],
   "source": [
    "%%writefile app.py\n",
    "from transformers import pipeline\n",
    "import gradio as gr\n",
    "\n",
    "# \"Artifacts\"\n",
    "classifier = pipeline(\"image-classification\", model=\"./my_final_image_model\")\n",
    "\n",
    "def predict(image):\n",
    "    y_pred = classifier(image)\n",
    "    y_pred = {y[\"label\"]: y[\"score\"] for y in y_pred}\n",
    "    return y_pred\n",
    "\n",
    "# https://www.gradio.app/guides\n",
    "with gr.Blocks() as demo:\n",
    "    image = gr.Image(type=\"pil\")\n",
    "    predict_btn = gr.Button(\"Predict\", variant=\"primary\")\n",
    "    output = gr.Label(label=\"Output\")\n",
    "\n",
    "    inputs = [image]\n",
    "    outputs = [output]\n",
    "    \n",
    "    predict_btn.click(predict, inputs=inputs, outputs=outputs)\n",
    "\n",
    "if __name__ == \"__main__\":\n",
    "    demo.launch() # Local machine only\n",
    "    # demo.launch(server_name=\"0.0.0.0\") # LAN access to local machine\n",
    "    # demo.launch(share=True) # Public access to local machine"
   ]
  },
  {
   "cell_type": "code",
   "execution_count": 3,
   "metadata": {},
   "outputs": [
    {
     "name": "stderr",
     "output_type": "stream",
     "text": [
      "Hardware accelerator e.g. GPU is available in the environment, but no `device` argument is passed to the `Pipeline` object. Model will be on CPU.\n"
     ]
    },
    {
     "name": "stdout",
     "output_type": "stream",
     "text": [
      "* Running on local URL:  http://127.0.0.1:7861\n",
      "\n",
      "To create a public link, set `share=True` in `launch()`.\n"
     ]
    },
    {
     "data": {
      "text/html": [
       "<div><iframe src=\"http://127.0.0.1:7861/\" width=\"100%\" height=\"500\" allow=\"autoplay; camera; microphone; clipboard-read; clipboard-write;\" frameborder=\"0\" allowfullscreen></iframe></div>"
      ],
      "text/plain": [
       "<IPython.core.display.HTML object>"
      ]
     },
     "metadata": {},
     "output_type": "display_data"
    }
   ],
   "source": [
    "%run app.py"
   ]
  }
 ],
 "metadata": {
  "kernelspec": {
   "display_name": ".venv",
   "language": "python",
   "name": "python3"
  },
  "language_info": {
   "codemirror_mode": {
    "name": "ipython",
    "version": 3
   },
   "file_extension": ".py",
   "mimetype": "text/x-python",
   "name": "python",
   "nbconvert_exporter": "python",
   "pygments_lexer": "ipython3",
   "version": "3.10.11"
  }
 },
 "nbformat": 4,
 "nbformat_minor": 2
}
