{
 "cells": [
  {
   "cell_type": "markdown",
   "metadata": {},
   "source": [
    "# DO NOT RUN AGAIN !!"
   ]
  },
  {
   "cell_type": "markdown",
   "metadata": {},
   "source": [
    "## Change data files name to numeric order"
   ]
  },
  {
   "cell_type": "markdown",
   "metadata": {},
   "source": [
    "> ### For accident data"
   ]
  },
  {
   "cell_type": "code",
   "execution_count": 1,
   "metadata": {},
   "outputs": [
    {
     "name": "stdout",
     "output_type": "stream",
     "text": [
      "Files renamed successfully.\n"
     ]
    }
   ],
   "source": [
    "import os\n",
    "\n",
    "src_directory = './train_data/accident/'\n",
    "dest_directory = './data/accident/'\n",
    "\n",
    "# List all files in the directory\n",
    "files = os.listdir(src_directory)\n",
    "\n",
    "# Loop through the files\n",
    "for i, filename in enumerate(files):\n",
    "    # Create the new file name\n",
    "    new_name = f\"{i + 1}.jpg\"\n",
    "    \n",
    "    # Get the full path for the current file\n",
    "    old_file = os.path.join(src_directory, filename)\n",
    "    \n",
    "    # Get the full path for the new file\n",
    "    new_file = os.path.join(dest_directory, new_name)\n",
    "    \n",
    "    # Rename the file\n",
    "    os.rename(old_file, new_file)\n",
    "\n",
    "print(\"Files renamed successfully.\")"
   ]
  },
  {
   "cell_type": "markdown",
   "metadata": {},
   "source": [
    "> ### For non-accident data"
   ]
  },
  {
   "cell_type": "code",
   "execution_count": 2,
   "metadata": {},
   "outputs": [
    {
     "name": "stdout",
     "output_type": "stream",
     "text": [
      "Files renamed successfully.\n"
     ]
    }
   ],
   "source": [
    "import os\n",
    "\n",
    "src_directory = './train_data/non-accident/'\n",
    "dest_directory = './data/non-accident/'\n",
    "\n",
    "# List all files in the directory\n",
    "files = os.listdir(src_directory)\n",
    "\n",
    "# Loop through the files\n",
    "for i, filename in enumerate(files):\n",
    "    # Create the new file name\n",
    "    new_name = f\"{i + 1}.jpg\"\n",
    "    \n",
    "    # Get the full path for the current file\n",
    "    old_file = os.path.join(src_directory, filename)\n",
    "    \n",
    "    # Get the full path for the new file\n",
    "    new_file = os.path.join(dest_directory, new_name)\n",
    "    \n",
    "    # Rename the file\n",
    "    os.rename(old_file, new_file)\n",
    "\n",
    "print(\"Files renamed successfully.\")"
   ]
  }
 ],
 "metadata": {
  "kernelspec": {
   "display_name": ".venv",
   "language": "python",
   "name": "python3"
  },
  "language_info": {
   "codemirror_mode": {
    "name": "ipython",
    "version": 3
   },
   "file_extension": ".py",
   "mimetype": "text/x-python",
   "name": "python",
   "nbconvert_exporter": "python",
   "pygments_lexer": "ipython3",
   "version": "3.10.11"
  }
 },
 "nbformat": 4,
 "nbformat_minor": 2
}
