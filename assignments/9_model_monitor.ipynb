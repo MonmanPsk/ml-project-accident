{
 "cells": [
  {
   "cell_type": "code",
   "execution_count": 1,
   "metadata": {},
   "outputs": [
    {
     "data": {
      "text/html": [
       "<div>\n",
       "<style scoped>\n",
       "    .dataframe tbody tr th:only-of-type {\n",
       "        vertical-align: middle;\n",
       "    }\n",
       "\n",
       "    .dataframe tbody tr th {\n",
       "        vertical-align: top;\n",
       "    }\n",
       "\n",
       "    .dataframe thead th {\n",
       "        text-align: right;\n",
       "    }\n",
       "</style>\n",
       "<table border=\"1\" class=\"dataframe\">\n",
       "  <thead>\n",
       "    <tr style=\"text-align: right;\">\n",
       "      <th></th>\n",
       "      <th>text</th>\n",
       "      <th>category</th>\n",
       "      <th>region</th>\n",
       "      <th>organization</th>\n",
       "    </tr>\n",
       "  </thead>\n",
       "  <tbody>\n",
       "    <tr>\n",
       "      <th>0</th>\n",
       "      <td>ขอหน่วยงานที่เกี่ยวข้องวางท่อส่งน้ำสำหรับขยายเ...</td>\n",
       "      <td>น้ำ</td>\n",
       "      <td>สระบุรี</td>\n",
       "      <td>สปน.</td>\n",
       "    </tr>\n",
       "    <tr>\n",
       "      <th>1</th>\n",
       "      <td>ขอให้หน่วยงานที่เกี่ยวข้องดำเนินการแก้ไขปัญหาร...</td>\n",
       "      <td>อื่น ๆ</td>\n",
       "      <td>ทุกภูมิภาค</td>\n",
       "      <td>กต.</td>\n",
       "    </tr>\n",
       "    <tr>\n",
       "      <th>2</th>\n",
       "      <td>ขอให้ช่วยเหลือเยียวยาประชาชนที่ได้รับผลกระทบจา...</td>\n",
       "      <td>สาธารณภัย</td>\n",
       "      <td>สุพรรณบุรี</td>\n",
       "      <td>กษ.</td>\n",
       "    </tr>\n",
       "    <tr>\n",
       "      <th>3</th>\n",
       "      <td>ขอให้รัฐบาลทบทวนการแก้ไขปัญหาประชาคมกระเหรี่ยง...</td>\n",
       "      <td>ที่ดินทำกิน</td>\n",
       "      <td>เพชรบุรี</td>\n",
       "      <td>ทส.</td>\n",
       "    </tr>\n",
       "    <tr>\n",
       "      <th>4</th>\n",
       "      <td>ขอให้พิจารณาดำเนินการแก้ไขปัญหาการลักลอบเล่นพน...</td>\n",
       "      <td>อาชญากรรม ยาเสพติดและการพนัน</td>\n",
       "      <td>กรุงเทพมหานคร</td>\n",
       "      <td>ตร.</td>\n",
       "    </tr>\n",
       "    <tr>\n",
       "      <th>...</th>\n",
       "      <td>...</td>\n",
       "      <td>...</td>\n",
       "      <td>...</td>\n",
       "      <td>...</td>\n",
       "    </tr>\n",
       "    <tr>\n",
       "      <th>1952</th>\n",
       "      <td>ขอให้พิจารณากำกับดูแลและเร่งดำเนินการจัดทำร่าง...</td>\n",
       "      <td>การเมือง</td>\n",
       "      <td>ทุกภูมิภาค</td>\n",
       "      <td>สลค.</td>\n",
       "    </tr>\n",
       "    <tr>\n",
       "      <th>1953</th>\n",
       "      <td>ขอให้หน่วยงานที่เกี่ยวข้องบูรณาการการทำงานร่วม...</td>\n",
       "      <td>สวัสดิการ</td>\n",
       "      <td>ทุกภูมิภาค</td>\n",
       "      <td>กต.</td>\n",
       "    </tr>\n",
       "    <tr>\n",
       "      <th>1954</th>\n",
       "      <td>ขอให้หน่วยงานที่เกี่ยวข้องดำเนินการฟื้นฟูเศรษฐ...</td>\n",
       "      <td>เศรษฐกิจ การคลัง</td>\n",
       "      <td>ภาคตะวันออก</td>\n",
       "      <td>คค.</td>\n",
       "    </tr>\n",
       "    <tr>\n",
       "      <th>1955</th>\n",
       "      <td>ขอความอนุเคราะห์ให้จัดระบบประปาหมู่บ้าน ม.6 บ้...</td>\n",
       "      <td>น้ำ</td>\n",
       "      <td>เชียงใหม่</td>\n",
       "      <td>มท.</td>\n",
       "    </tr>\n",
       "    <tr>\n",
       "      <th>1956</th>\n",
       "      <td>ขอให้รัฐบาลทบทวนการแก้ไขปัญหาประชาคมกระเหรี่ยง...</td>\n",
       "      <td>ที่ดินทำกิน</td>\n",
       "      <td>เพชรบุรี</td>\n",
       "      <td>ทส.</td>\n",
       "    </tr>\n",
       "  </tbody>\n",
       "</table>\n",
       "<p>1957 rows × 4 columns</p>\n",
       "</div>"
      ],
      "text/plain": [
       "                                                   text  \\\n",
       "0     ขอหน่วยงานที่เกี่ยวข้องวางท่อส่งน้ำสำหรับขยายเ...   \n",
       "1     ขอให้หน่วยงานที่เกี่ยวข้องดำเนินการแก้ไขปัญหาร...   \n",
       "2     ขอให้ช่วยเหลือเยียวยาประชาชนที่ได้รับผลกระทบจา...   \n",
       "3     ขอให้รัฐบาลทบทวนการแก้ไขปัญหาประชาคมกระเหรี่ยง...   \n",
       "4     ขอให้พิจารณาดำเนินการแก้ไขปัญหาการลักลอบเล่นพน...   \n",
       "...                                                 ...   \n",
       "1952  ขอให้พิจารณากำกับดูแลและเร่งดำเนินการจัดทำร่าง...   \n",
       "1953  ขอให้หน่วยงานที่เกี่ยวข้องบูรณาการการทำงานร่วม...   \n",
       "1954  ขอให้หน่วยงานที่เกี่ยวข้องดำเนินการฟื้นฟูเศรษฐ...   \n",
       "1955  ขอความอนุเคราะห์ให้จัดระบบประปาหมู่บ้าน ม.6 บ้...   \n",
       "1956  ขอให้รัฐบาลทบทวนการแก้ไขปัญหาประชาคมกระเหรี่ยง...   \n",
       "\n",
       "                          category         region organization  \n",
       "0                              น้ำ        สระบุรี         สปน.  \n",
       "1                           อื่น ๆ     ทุกภูมิภาค          กต.  \n",
       "2                        สาธารณภัย     สุพรรณบุรี          กษ.  \n",
       "3                      ที่ดินทำกิน       เพชรบุรี          ทส.  \n",
       "4     อาชญากรรม ยาเสพติดและการพนัน  กรุงเทพมหานคร          ตร.  \n",
       "...                            ...            ...          ...  \n",
       "1952                      การเมือง     ทุกภูมิภาค         สลค.  \n",
       "1953                     สวัสดิการ     ทุกภูมิภาค          กต.  \n",
       "1954              เศรษฐกิจ การคลัง    ภาคตะวันออก          คค.  \n",
       "1955                           น้ำ      เชียงใหม่          มท.  \n",
       "1956                   ที่ดินทำกิน       เพชรบุรี          ทส.  \n",
       "\n",
       "[1957 rows x 4 columns]"
      ]
     },
     "execution_count": 1,
     "metadata": {},
     "output_type": "execute_result"
    }
   ],
   "source": [
    "import pandas as pd\n",
    "\n",
    "data = pd.read_excel(\"complaints.xlsx\", usecols=[\"ประเด็นที่ร้องเรียน\", \"หมวดหมู่ปัญหา (เลือก)\", \"พื้นที่ / ภูมิภาค\", \"หน่วยงาน\\nที่เกี่ยวข้อง\"])\n",
    "data.columns = [\"text\", \"category\", \"region\", \"organization\"]\n",
    "data = data.dropna()\n",
    "data = data.reset_index(drop=True)\n",
    "data"
   ]
  },
  {
   "cell_type": "code",
   "execution_count": 2,
   "metadata": {},
   "outputs": [
    {
     "data": {
      "text/plain": [
       "{'สาธารณสุข': 194,\n",
       " 'โครงสร้างพื้นฐานและสาธารณูปโภค': 149,\n",
       " 'การบริหารราชการแผ่นดิน': 133,\n",
       " 'อาชญากรรม ยาเสพติดและการพนัน': 129,\n",
       " 'น้ำ': 128,\n",
       " 'ที่ดินทำกิน': 122,\n",
       " 'เศรษฐกิจ การคลัง': 103,\n",
       " 'สาธารณภัย': 98,\n",
       " 'ราคาสินค้าเกษตร': 96,\n",
       " 'อื่น ๆ': 86,\n",
       " 'สวัสดิการ': 81,\n",
       " 'ศิลปะ วัฒนธรรม ศาสนา': 72,\n",
       " 'ผู้มีอิทธิพล การทุจริตและประพฤติมิชอบ': 61,\n",
       " 'การคมนาคม การจราจรหรืออุบัติเหตุ': 58,\n",
       " 'การเมือง': 52,\n",
       " 'สิ่งแวดล้อม': 51,\n",
       " 'หนี้สิน เศรษฐกิจฐานราก': 47,\n",
       " 'การศึกษา': 37,\n",
       " 'การเกษตร': 37,\n",
       " 'การพาณิชย์': 32,\n",
       " 'โรคระบาดพืชและสัตว์': 28,\n",
       " 'แรงงาน': 24,\n",
       " 'การท่องเที่ยว': 21,\n",
       " 'ความมั่นคง': 19,\n",
       " 'อุตสาหกรรม': 15,\n",
       " 'กฎหมายและกระบวนการยุติธรรม': 14,\n",
       " 'เทคโนโลยีและดิจิทัล': 13,\n",
       " 'พลังงาน': 12,\n",
       " 'โทรคมนาคมและการสื่อสาร': 11,\n",
       " 'ประมง': 11,\n",
       " 'ความหลากหลายทางสังคม': 9,\n",
       " 'การต่างประเทศ': 7,\n",
       " 'วิจัย วิทยาศาสตร์ และนวัตกรรม': 5,\n",
       " 'การกีฬา': 2}"
      ]
     },
     "execution_count": 2,
     "metadata": {},
     "output_type": "execute_result"
    }
   ],
   "source": [
    "data[\"category\"].value_counts().to_dict()"
   ]
  },
  {
   "cell_type": "code",
   "execution_count": 3,
   "metadata": {},
   "outputs": [],
   "source": [
    "data = data[data[\"category\"] != \"อื่น ๆ\"]"
   ]
  },
  {
   "cell_type": "code",
   "execution_count": 4,
   "metadata": {},
   "outputs": [
    {
     "data": {
      "text/plain": [
       "array(['น้ำ', 'สาธารณภัย', 'ที่ดินทำกิน', 'อาชญากรรม ยาเสพติดและการพนัน',\n",
       "       'สาธารณสุข', 'หนี้สิน เศรษฐกิจฐานราก', 'การบริหารราชการแผ่นดิน',\n",
       "       'การเกษตร', 'ราคาสินค้าเกษตร', 'ศิลปะ วัฒนธรรม ศาสนา',\n",
       "       'อุตสาหกรรม', 'การคมนาคม การจราจรหรืออุบัติเหตุ',\n",
       "       'โครงสร้างพื้นฐานและสาธารณูปโภค', 'การศึกษา',\n",
       "       'ผู้มีอิทธิพล การทุจริตและประพฤติมิชอบ', 'เศรษฐกิจ การคลัง',\n",
       "       'กฎหมายและกระบวนการยุติธรรม', 'การต่างประเทศ',\n",
       "       'โทรคมนาคมและการสื่อสาร', 'การท่องเที่ยว', 'สวัสดิการ', 'การเมือง',\n",
       "       'เทคโนโลยีและดิจิทัล', 'พลังงาน', 'แรงงาน', 'สิ่งแวดล้อม',\n",
       "       'การพาณิชย์', 'โรคระบาดพืชและสัตว์', 'ความมั่นคง',\n",
       "       'วิจัย วิทยาศาสตร์ และนวัตกรรม', 'การกีฬา', 'ประมง',\n",
       "       'ความหลากหลายทางสังคม'], dtype=object)"
      ]
     },
     "execution_count": 4,
     "metadata": {},
     "output_type": "execute_result"
    }
   ],
   "source": [
    "data[\"category\"].unique()"
   ]
  },
  {
   "cell_type": "code",
   "execution_count": 5,
   "metadata": {},
   "outputs": [],
   "source": [
    "new_classes = {\n",
    "    \"สาธารณสุข\": \"โครงสร้างพื้นฐานและสาธารณูปโภค\",\n",
    "    \"โครงสร้างพื้นฐานและสาธารณูปโภค\": \"โครงสร้างพื้นฐานและสาธารณูปโภค\",\n",
    "    \"สาธารณภัย\": \"โครงสร้างพื้นฐานและสาธารณูปโภค\",\n",
    "    \"น้ำ\": \"โครงสร้างพื้นฐานและสาธารณูปโภค\",\n",
    "    \"ที่ดินทำกิน\": \"โครงสร้างพื้นฐานและสาธารณูปโภค\",\n",
    "    \"การคมนาคม การจราจรหรืออุบัติเหตุ\": \"โครงสร้างพื้นฐานและสาธารณูปโภค\",\n",
    "    \"โทรคมนาคมและการสื่อสาร\": \"โครงสร้างพื้นฐานและสาธารณูปโภค\",\n",
    "    \"เศรษฐกิจ การคลัง\": \"เศรษฐกิจและการเงิน\",\n",
    "    \"ราคาสินค้าเกษตร\": \"เศรษฐกิจและการเงิน\",\n",
    "    \"หนี้สิน เศรษฐกิจฐานราก\": \"เศรษฐกิจและการเงิน\",\n",
    "    \"การเกษตร\": \"เศรษฐกิจและการเงิน\",\n",
    "    \"การพาณิชย์\": \"เศรษฐกิจและการเงิน\",\n",
    "    \"อุตสาหกรรม\": \"เศรษฐกิจและการเงิน\",\n",
    "    \"พลังงาน\": \"เศรษฐกิจและการเงิน\",\n",
    "    \"ประมง\": \"เศรษฐกิจและการเงิน\",\n",
    "    \"เทคโนโลยีและดิจิทัล\": \"เศรษฐกิจและการเงิน\",\n",
    "    \"สวัสดิการ\": \"สวัสดิการสังคมและความมั่นคง\",\n",
    "    \"การศึกษา\": \"สวัสดิการสังคมและความมั่นคง\",\n",
    "    \"แรงงาน\": \"สวัสดิการสังคมและความมั่นคง\",\n",
    "    \"ความหลากหลายทางสังคม\": \"สวัสดิการสังคมและความมั่นคง\",\n",
    "    \"ความมั่นคง\": \"สวัสดิการสังคมและความมั่นคง\",\n",
    "    \"อาชญากรรม ยาเสพติดและการพนัน\": \"สวัสดิการสังคมและความมั่นคง\",\n",
    "    \"การบริหารราชการแผ่นดิน\": \"การปกครองและการเมือง\",\n",
    "    \"การเมือง\": \"การปกครองและการเมือง\",\n",
    "    \"กฎหมายและกระบวนการยุติธรรม\": \"การปกครองและการเมือง\",\n",
    "    \"ผู้มีอิทธิพล การทุจริตและประพฤติมิชอบ\": \"การปกครองและการเมือง\",\n",
    "    \"การต่างประเทศ\": \"การปกครองและการเมือง\",\n",
    "    \"สิ่งแวดล้อม\": \"สิ่งแวดล้อม วัฒนธรรม และการวิจัย\",\n",
    "    \"ศิลปะ วัฒนธรรม ศาสนา\": \"สิ่งแวดล้อม วัฒนธรรม และการวิจัย\",\n",
    "    \"การท่องเที่ยว\": \"สิ่งแวดล้อม วัฒนธรรม และการวิจัย\",\n",
    "    \"วิจัย วิทยาศาสตร์ และนวัตกรรม\": \"สิ่งแวดล้อม วัฒนธรรม และการวิจัย\",\n",
    "    \"การกีฬา\": \"สิ่งแวดล้อม วัฒนธรรม และการวิจัย\",\n",
    "    \"โรคระบาดพืชและสัตว์\": \"สิ่งแวดล้อม วัฒนธรรม และการวิจัย\",\n",
    "}"
   ]
  },
  {
   "cell_type": "code",
   "execution_count": 6,
   "metadata": {},
   "outputs": [
    {
     "data": {
      "text/html": [
       "<div>\n",
       "<style scoped>\n",
       "    .dataframe tbody tr th:only-of-type {\n",
       "        vertical-align: middle;\n",
       "    }\n",
       "\n",
       "    .dataframe tbody tr th {\n",
       "        vertical-align: top;\n",
       "    }\n",
       "\n",
       "    .dataframe thead th {\n",
       "        text-align: right;\n",
       "    }\n",
       "</style>\n",
       "<table border=\"1\" class=\"dataframe\">\n",
       "  <thead>\n",
       "    <tr style=\"text-align: right;\">\n",
       "      <th></th>\n",
       "      <th>text</th>\n",
       "      <th>category</th>\n",
       "      <th>region</th>\n",
       "      <th>organization</th>\n",
       "    </tr>\n",
       "  </thead>\n",
       "  <tbody>\n",
       "    <tr>\n",
       "      <th>0</th>\n",
       "      <td>ขอหน่วยงานที่เกี่ยวข้องวางท่อส่งน้ำสำหรับขยายเ...</td>\n",
       "      <td>โครงสร้างพื้นฐานและสาธารณูปโภค</td>\n",
       "      <td>สระบุรี</td>\n",
       "      <td>สปน.</td>\n",
       "    </tr>\n",
       "    <tr>\n",
       "      <th>2</th>\n",
       "      <td>ขอให้ช่วยเหลือเยียวยาประชาชนที่ได้รับผลกระทบจา...</td>\n",
       "      <td>โครงสร้างพื้นฐานและสาธารณูปโภค</td>\n",
       "      <td>สุพรรณบุรี</td>\n",
       "      <td>กษ.</td>\n",
       "    </tr>\n",
       "    <tr>\n",
       "      <th>3</th>\n",
       "      <td>ขอให้รัฐบาลทบทวนการแก้ไขปัญหาประชาคมกระเหรี่ยง...</td>\n",
       "      <td>โครงสร้างพื้นฐานและสาธารณูปโภค</td>\n",
       "      <td>เพชรบุรี</td>\n",
       "      <td>ทส.</td>\n",
       "    </tr>\n",
       "    <tr>\n",
       "      <th>4</th>\n",
       "      <td>ขอให้พิจารณาดำเนินการแก้ไขปัญหาการลักลอบเล่นพน...</td>\n",
       "      <td>สวัสดิการสังคมและความมั่นคง</td>\n",
       "      <td>กรุงเทพมหานคร</td>\n",
       "      <td>ตร.</td>\n",
       "    </tr>\n",
       "    <tr>\n",
       "      <th>5</th>\n",
       "      <td>ขอให้หน่วยงานที่เกี่ยวข้องแก้ไขปัญหาการพนันผิด...</td>\n",
       "      <td>สวัสดิการสังคมและความมั่นคง</td>\n",
       "      <td>ทุกภูมิภาค</td>\n",
       "      <td>มท.</td>\n",
       "    </tr>\n",
       "    <tr>\n",
       "      <th>...</th>\n",
       "      <td>...</td>\n",
       "      <td>...</td>\n",
       "      <td>...</td>\n",
       "      <td>...</td>\n",
       "    </tr>\n",
       "    <tr>\n",
       "      <th>1952</th>\n",
       "      <td>ขอให้พิจารณากำกับดูแลและเร่งดำเนินการจัดทำร่าง...</td>\n",
       "      <td>การปกครองและการเมือง</td>\n",
       "      <td>ทุกภูมิภาค</td>\n",
       "      <td>สลค.</td>\n",
       "    </tr>\n",
       "    <tr>\n",
       "      <th>1953</th>\n",
       "      <td>ขอให้หน่วยงานที่เกี่ยวข้องบูรณาการการทำงานร่วม...</td>\n",
       "      <td>สวัสดิการสังคมและความมั่นคง</td>\n",
       "      <td>ทุกภูมิภาค</td>\n",
       "      <td>กต.</td>\n",
       "    </tr>\n",
       "    <tr>\n",
       "      <th>1954</th>\n",
       "      <td>ขอให้หน่วยงานที่เกี่ยวข้องดำเนินการฟื้นฟูเศรษฐ...</td>\n",
       "      <td>เศรษฐกิจและการเงิน</td>\n",
       "      <td>ภาคตะวันออก</td>\n",
       "      <td>คค.</td>\n",
       "    </tr>\n",
       "    <tr>\n",
       "      <th>1955</th>\n",
       "      <td>ขอความอนุเคราะห์ให้จัดระบบประปาหมู่บ้าน ม.6 บ้...</td>\n",
       "      <td>โครงสร้างพื้นฐานและสาธารณูปโภค</td>\n",
       "      <td>เชียงใหม่</td>\n",
       "      <td>มท.</td>\n",
       "    </tr>\n",
       "    <tr>\n",
       "      <th>1956</th>\n",
       "      <td>ขอให้รัฐบาลทบทวนการแก้ไขปัญหาประชาคมกระเหรี่ยง...</td>\n",
       "      <td>โครงสร้างพื้นฐานและสาธารณูปโภค</td>\n",
       "      <td>เพชรบุรี</td>\n",
       "      <td>ทส.</td>\n",
       "    </tr>\n",
       "  </tbody>\n",
       "</table>\n",
       "<p>1871 rows × 4 columns</p>\n",
       "</div>"
      ],
      "text/plain": [
       "                                                   text  \\\n",
       "0     ขอหน่วยงานที่เกี่ยวข้องวางท่อส่งน้ำสำหรับขยายเ...   \n",
       "2     ขอให้ช่วยเหลือเยียวยาประชาชนที่ได้รับผลกระทบจา...   \n",
       "3     ขอให้รัฐบาลทบทวนการแก้ไขปัญหาประชาคมกระเหรี่ยง...   \n",
       "4     ขอให้พิจารณาดำเนินการแก้ไขปัญหาการลักลอบเล่นพน...   \n",
       "5     ขอให้หน่วยงานที่เกี่ยวข้องแก้ไขปัญหาการพนันผิด...   \n",
       "...                                                 ...   \n",
       "1952  ขอให้พิจารณากำกับดูแลและเร่งดำเนินการจัดทำร่าง...   \n",
       "1953  ขอให้หน่วยงานที่เกี่ยวข้องบูรณาการการทำงานร่วม...   \n",
       "1954  ขอให้หน่วยงานที่เกี่ยวข้องดำเนินการฟื้นฟูเศรษฐ...   \n",
       "1955  ขอความอนุเคราะห์ให้จัดระบบประปาหมู่บ้าน ม.6 บ้...   \n",
       "1956  ขอให้รัฐบาลทบทวนการแก้ไขปัญหาประชาคมกระเหรี่ยง...   \n",
       "\n",
       "                            category         region organization  \n",
       "0     โครงสร้างพื้นฐานและสาธารณูปโภค        สระบุรี         สปน.  \n",
       "2     โครงสร้างพื้นฐานและสาธารณูปโภค     สุพรรณบุรี          กษ.  \n",
       "3     โครงสร้างพื้นฐานและสาธารณูปโภค       เพชรบุรี          ทส.  \n",
       "4        สวัสดิการสังคมและความมั่นคง  กรุงเทพมหานคร          ตร.  \n",
       "5        สวัสดิการสังคมและความมั่นคง     ทุกภูมิภาค          มท.  \n",
       "...                              ...            ...          ...  \n",
       "1952            การปกครองและการเมือง     ทุกภูมิภาค         สลค.  \n",
       "1953     สวัสดิการสังคมและความมั่นคง     ทุกภูมิภาค          กต.  \n",
       "1954              เศรษฐกิจและการเงิน    ภาคตะวันออก          คค.  \n",
       "1955  โครงสร้างพื้นฐานและสาธารณูปโภค      เชียงใหม่          มท.  \n",
       "1956  โครงสร้างพื้นฐานและสาธารณูปโภค       เพชรบุรี          ทส.  \n",
       "\n",
       "[1871 rows x 4 columns]"
      ]
     },
     "execution_count": 6,
     "metadata": {},
     "output_type": "execute_result"
    }
   ],
   "source": [
    "data.loc[:, \"category\"] = data[\"category\"].apply(lambda x: new_classes[x])\n",
    "data"
   ]
  },
  {
   "cell_type": "code",
   "execution_count": 7,
   "metadata": {},
   "outputs": [
    {
     "data": {
      "text/plain": [
       "category\n",
       "โครงสร้างพื้นฐานและสาธารณูปโภค      760\n",
       "เศรษฐกิจและการเงิน                  366\n",
       "สวัสดิการสังคมและความมั่นคง         299\n",
       "การปกครองและการเมือง                267\n",
       "สิ่งแวดล้อม วัฒนธรรม และการวิจัย    179\n",
       "Name: count, dtype: int64"
      ]
     },
     "execution_count": 7,
     "metadata": {},
     "output_type": "execute_result"
    }
   ],
   "source": [
    "data[\"category\"].value_counts()"
   ]
  },
  {
   "cell_type": "code",
   "execution_count": 8,
   "metadata": {},
   "outputs": [
    {
     "data": {
      "text/plain": [
       "(1309, 281, 281)"
      ]
     },
     "execution_count": 8,
     "metadata": {},
     "output_type": "execute_result"
    }
   ],
   "source": [
    "from sklearn.model_selection import train_test_split\n",
    "\n",
    "train_data, test_data = train_test_split(data, test_size=0.3, stratify=data[\"category\"], random_state=1234)\n",
    "test_data, valid_data = train_test_split(test_data, test_size=0.5, stratify=test_data[\"category\"], random_state=1234)\n",
    "len(train_data), len(test_data), len(valid_data)"
   ]
  },
  {
   "cell_type": "code",
   "execution_count": 9,
   "metadata": {},
   "outputs": [
    {
     "data": {
      "text/plain": [
       "0.40569395017793597"
      ]
     },
     "execution_count": 9,
     "metadata": {},
     "output_type": "execute_result"
    }
   ],
   "source": [
    "from sklearn.dummy import DummyClassifier\n",
    "\n",
    "baseline = DummyClassifier(strategy=\"most_frequent\")\n",
    "baseline.fit(train_data[\"text\"], train_data[\"category\"])\n",
    "baseline.score(test_data[\"text\"], test_data[\"category\"])"
   ]
  },
  {
   "cell_type": "code",
   "execution_count": 10,
   "metadata": {},
   "outputs": [
    {
     "data": {
      "text/plain": [
       "0.9686783804430863"
      ]
     },
     "execution_count": 10,
     "metadata": {},
     "output_type": "execute_result"
    }
   ],
   "source": [
    "from imblearn.pipeline import make_pipeline\n",
    "from sklearn.feature_extraction.text import TfidfVectorizer\n",
    "from newmm_tokenizer.tokenizer import word_tokenize\n",
    "from imblearn.over_sampling import RandomOverSampler\n",
    "from sklearn.feature_selection import SelectKBest\n",
    "from sklearn.linear_model import LogisticRegression\n",
    "\n",
    "from warnings import filterwarnings\n",
    "\n",
    "filterwarnings(\"ignore\")\n",
    "\n",
    "\n",
    "def create_pipeline():\n",
    "    return make_pipeline(\n",
    "        TfidfVectorizer(tokenizer=word_tokenize, ngram_range=(1, 3), min_df=3, max_df=0.7),\n",
    "        SelectKBest(k=20000),\n",
    "        RandomOverSampler(random_state=1234),\n",
    "        LogisticRegression(random_state=1234),\n",
    "    )\n",
    "\n",
    "\n",
    "pipeline = create_pipeline()\n",
    "pipeline.fit(train_data[\"text\"], train_data[\"category\"])\n",
    "pipeline.score(train_data[\"text\"], train_data[\"category\"])"
   ]
  },
  {
   "cell_type": "code",
   "execution_count": 11,
   "metadata": {},
   "outputs": [
    {
     "data": {
      "text/plain": [
       "11028"
      ]
     },
     "execution_count": 11,
     "metadata": {},
     "output_type": "execute_result"
    }
   ],
   "source": [
    "pipeline.steps[-1][1].n_features_in_"
   ]
  },
  {
   "cell_type": "code",
   "execution_count": 12,
   "metadata": {},
   "outputs": [
    {
     "data": {
      "text/plain": [
       "0.7473309608540926"
      ]
     },
     "execution_count": 12,
     "metadata": {},
     "output_type": "execute_result"
    }
   ],
   "source": [
    "pipeline.score(test_data[\"text\"], test_data[\"category\"])"
   ]
  },
  {
   "cell_type": "code",
   "execution_count": 13,
   "metadata": {},
   "outputs": [
    {
     "name": "stdout",
     "output_type": "stream",
     "text": [
      "                                  precision    recall  f1-score   support\n",
      "\n",
      "            การปกครองและการเมือง       0.64      0.80      0.71        40\n",
      "     สวัสดิการสังคมและความมั่นคง       0.65      0.62      0.64        45\n",
      "สิ่งแวดล้อม วัฒนธรรม และการวิจัย       0.65      0.48      0.55        27\n",
      "              เศรษฐกิจและการเงิน       0.78      0.73      0.75        55\n",
      "  โครงสร้างพื้นฐานและสาธารณูปโภค       0.83      0.85      0.84       114\n",
      "\n",
      "                        accuracy                           0.75       281\n",
      "                       macro avg       0.71      0.70      0.70       281\n",
      "                    weighted avg       0.75      0.75      0.74       281\n",
      "\n"
     ]
    }
   ],
   "source": [
    "from sklearn.metrics import classification_report\n",
    "\n",
    "print(classification_report(test_data[\"category\"], pipeline.predict(test_data[\"text\"]), target_names=pipeline.classes_))"
   ]
  },
  {
   "cell_type": "code",
   "execution_count": 14,
   "metadata": {},
   "outputs": [
    {
     "data": {
      "text/html": [
       "<div>\n",
       "<style scoped>\n",
       "    .dataframe tbody tr th:only-of-type {\n",
       "        vertical-align: middle;\n",
       "    }\n",
       "\n",
       "    .dataframe tbody tr th {\n",
       "        vertical-align: top;\n",
       "    }\n",
       "\n",
       "    .dataframe thead th {\n",
       "        text-align: right;\n",
       "    }\n",
       "</style>\n",
       "<table border=\"1\" class=\"dataframe\">\n",
       "  <thead>\n",
       "    <tr style=\"text-align: right;\">\n",
       "      <th></th>\n",
       "      <th>text</th>\n",
       "      <th>category</th>\n",
       "      <th>region</th>\n",
       "      <th>organization</th>\n",
       "    </tr>\n",
       "  </thead>\n",
       "  <tbody>\n",
       "    <tr>\n",
       "      <th>982</th>\n",
       "      <td>ขอให้แก้ไขปัญหาการไม่มีกฎเกณฑ์หรือกฎระเบียบที่...</td>\n",
       "      <td>เศรษฐกิจและการเงิน</td>\n",
       "      <td>ทุกภูมิภาค</td>\n",
       "      <td>กค.</td>\n",
       "    </tr>\n",
       "    <tr>\n",
       "      <th>1218</th>\n",
       "      <td>ขอให้หน่วยงานที่เกี่ยวข้องกำหนดนโยบายการเปิดเส...</td>\n",
       "      <td>เศรษฐกิจและการเงิน</td>\n",
       "      <td>ทุกภูมิภาค</td>\n",
       "      <td>กสทช.</td>\n",
       "    </tr>\n",
       "    <tr>\n",
       "      <th>738</th>\n",
       "      <td>ขอให้ดำเนินการกับเจ้าหน้าที่ตำรวจที่ดำเนินการไ...</td>\n",
       "      <td>การปกครองและการเมือง</td>\n",
       "      <td>ระยอง</td>\n",
       "      <td>รย.</td>\n",
       "    </tr>\n",
       "    <tr>\n",
       "      <th>1354</th>\n",
       "      <td>ขอให้แก้ไขปัญหาที่ดินทำกินของชาวกะเหรี่ยงจากบ้...</td>\n",
       "      <td>โครงสร้างพื้นฐานและสาธารณูปโภค</td>\n",
       "      <td>เพชรบุรี</td>\n",
       "      <td>ทส.</td>\n",
       "    </tr>\n",
       "    <tr>\n",
       "      <th>311</th>\n",
       "      <td>ขอความเป็นธรรมกรณีถูกเจ้าหน้าที่ป่าไม้ สํานัก ...</td>\n",
       "      <td>การปกครองและการเมือง</td>\n",
       "      <td>หนองคาย</td>\n",
       "      <td>สปน.</td>\n",
       "    </tr>\n",
       "    <tr>\n",
       "      <th>734</th>\n",
       "      <td>ขอให้ตรวจสอบการจัดทำประชาพิจารณ์คัดค้านการเปลี...</td>\n",
       "      <td>โครงสร้างพื้นฐานและสาธารณูปโภค</td>\n",
       "      <td>ทุกภูมิภาค</td>\n",
       "      <td>สปน.</td>\n",
       "    </tr>\n",
       "    <tr>\n",
       "      <th>369</th>\n",
       "      <td>ขอให้แก้ไขปัญหาโครงการพัฒนาสาธารณูปโภคพื้นฐานแ...</td>\n",
       "      <td>การปกครองและการเมือง</td>\n",
       "      <td>น่าน</td>\n",
       "      <td>ทส.</td>\n",
       "    </tr>\n",
       "    <tr>\n",
       "      <th>1181</th>\n",
       "      <td>ขอให้หน่วยงานที่เกี่ยวข้องดำเนินการเพื่อพัฒนาค...</td>\n",
       "      <td>สวัสดิการสังคมและความมั่นคง</td>\n",
       "      <td>ทุกภูมิภาค</td>\n",
       "      <td>มท.</td>\n",
       "    </tr>\n",
       "    <tr>\n",
       "      <th>450</th>\n",
       "      <td>ขอให้พิจารณาขุดลอกแหล่งน้ำในพื้นที่หมู่ที่ ๒ แ...</td>\n",
       "      <td>โครงสร้างพื้นฐานและสาธารณูปโภค</td>\n",
       "      <td>นครราชสีมา</td>\n",
       "      <td>มท.</td>\n",
       "    </tr>\n",
       "    <tr>\n",
       "      <th>1289</th>\n",
       "      <td>ขอให้แก้ไขปัญหากรณีการดำเนินโครงการอ่างเก็บน้ำ...</td>\n",
       "      <td>การปกครองและการเมือง</td>\n",
       "      <td>ปราจีนบุรี</td>\n",
       "      <td>ทส.</td>\n",
       "    </tr>\n",
       "  </tbody>\n",
       "</table>\n",
       "</div>"
      ],
      "text/plain": [
       "                                                   text  \\\n",
       "982   ขอให้แก้ไขปัญหาการไม่มีกฎเกณฑ์หรือกฎระเบียบที่...   \n",
       "1218  ขอให้หน่วยงานที่เกี่ยวข้องกำหนดนโยบายการเปิดเส...   \n",
       "738   ขอให้ดำเนินการกับเจ้าหน้าที่ตำรวจที่ดำเนินการไ...   \n",
       "1354  ขอให้แก้ไขปัญหาที่ดินทำกินของชาวกะเหรี่ยงจากบ้...   \n",
       "311   ขอความเป็นธรรมกรณีถูกเจ้าหน้าที่ป่าไม้ สํานัก ...   \n",
       "734   ขอให้ตรวจสอบการจัดทำประชาพิจารณ์คัดค้านการเปลี...   \n",
       "369   ขอให้แก้ไขปัญหาโครงการพัฒนาสาธารณูปโภคพื้นฐานแ...   \n",
       "1181  ขอให้หน่วยงานที่เกี่ยวข้องดำเนินการเพื่อพัฒนาค...   \n",
       "450   ขอให้พิจารณาขุดลอกแหล่งน้ำในพื้นที่หมู่ที่ ๒ แ...   \n",
       "1289  ขอให้แก้ไขปัญหากรณีการดำเนินโครงการอ่างเก็บน้ำ...   \n",
       "\n",
       "                            category      region organization  \n",
       "982               เศรษฐกิจและการเงิน  ทุกภูมิภาค          กค.  \n",
       "1218              เศรษฐกิจและการเงิน  ทุกภูมิภาค        กสทช.  \n",
       "738             การปกครองและการเมือง       ระยอง          รย.  \n",
       "1354  โครงสร้างพื้นฐานและสาธารณูปโภค    เพชรบุรี          ทส.  \n",
       "311             การปกครองและการเมือง     หนองคาย         สปน.  \n",
       "734   โครงสร้างพื้นฐานและสาธารณูปโภค  ทุกภูมิภาค         สปน.  \n",
       "369             การปกครองและการเมือง        น่าน          ทส.  \n",
       "1181     สวัสดิการสังคมและความมั่นคง  ทุกภูมิภาค          มท.  \n",
       "450   โครงสร้างพื้นฐานและสาธารณูปโภค  นครราชสีมา          มท.  \n",
       "1289            การปกครองและการเมือง  ปราจีนบุรี          ทส.  "
      ]
     },
     "execution_count": 14,
     "metadata": {},
     "output_type": "execute_result"
    }
   ],
   "source": [
    "valid_data.sample(10)"
   ]
  },
  {
   "cell_type": "code",
   "execution_count": 15,
   "metadata": {},
   "outputs": [
    {
     "data": {
      "text/plain": [
       "'ขอให้หน่วยงานที่รับผิดชอบเร่งรัดการจ่ายเงินรางวัลแก่ทนายความอาสาเพราะที่ผ่านมาประสบปัญหาการเบิกจ่ายล่าช้าโดยให้เหตุผลว่าไม่มีงบประมาณเพียงพอ จนเป็นเหตุให้ทนายความอาสาขาดขวัญและกำลังใจในการปฏิบัติหน้าที่ ซึ่งอาจส่งผลกระทบต่อประชาชนที่เป็นผู้ต้องหาได้'"
      ]
     },
     "execution_count": 15,
     "metadata": {},
     "output_type": "execute_result"
    }
   ],
   "source": [
    "text = valid_data[\"text\"][584]\n",
    "text"
   ]
  },
  {
   "cell_type": "code",
   "execution_count": 16,
   "metadata": {},
   "outputs": [
    {
     "data": {
      "text/plain": [
       "'การปกครองและการเมือง'"
      ]
     },
     "execution_count": 16,
     "metadata": {},
     "output_type": "execute_result"
    }
   ],
   "source": [
    "pipeline.predict([text])[0]"
   ]
  },
  {
   "cell_type": "code",
   "execution_count": 17,
   "metadata": {},
   "outputs": [
    {
     "data": {
      "text/plain": [
       "{'การปกครองและการเมือง': 0.3665877469663336,\n",
       " 'สวัสดิการสังคมและความมั่นคง': 0.28005301956833983,\n",
       " 'สิ่งแวดล้อม วัฒนธรรม และการวิจัย': 0.14253975478726777,\n",
       " 'เศรษฐกิจและการเงิน': 0.1226120749458562,\n",
       " 'โครงสร้างพื้นฐานและสาธารณูปโภค': 0.0882074037322025}"
      ]
     },
     "execution_count": 17,
     "metadata": {},
     "output_type": "execute_result"
    }
   ],
   "source": [
    "category = pipeline.predict_proba([text])[0]\n",
    "dict(sorted(zip(pipeline.classes_, category), key=lambda x: x[1])[::-1])"
   ]
  },
  {
   "cell_type": "code",
   "execution_count": 18,
   "metadata": {},
   "outputs": [
    {
     "name": "stdout",
     "output_type": "stream",
     "text": [
      "Running on local URL:  http://127.0.0.1:7860\n",
      "\n",
      "To create a public link, set `share=True` in `launch()`.\n"
     ]
    },
    {
     "data": {
      "text/html": [
       "<div><iframe src=\"http://127.0.0.1:7860/\" width=\"100%\" height=\"500\" allow=\"autoplay; camera; microphone; clipboard-read; clipboard-write;\" frameborder=\"0\" allowfullscreen></iframe></div>"
      ],
      "text/plain": [
       "<IPython.core.display.HTML object>"
      ]
     },
     "metadata": {},
     "output_type": "display_data"
    },
    {
     "data": {
      "text/plain": []
     },
     "execution_count": 18,
     "metadata": {},
     "output_type": "execute_result"
    }
   ],
   "source": [
    "import gradio as gr\n",
    "import logging\n",
    "from pathlib import Path\n",
    "\n",
    "logger = logging.getLogger(__name__)\n",
    "logger.setLevel(logging.INFO)\n",
    "\n",
    "log_path = Path(\"./log.csv\")\n",
    "log_path.write_text(\"\")\n",
    "\n",
    "log_handler = logging.FileHandler(log_path, mode=\"a\", encoding=\"utf-8\")\n",
    "log_handler.setFormatter(logging.Formatter('\"%(asctime)s\",\"%(levelname)s\",\"%(message)s\"'))\n",
    "logger.addHandler(log_handler)\n",
    "\n",
    "\n",
    "def predict(text):\n",
    "    predicted = pipeline.predict_proba([text])[0]\n",
    "    predicted = sorted(zip(pipeline.classes_, predicted), key=lambda x: x[1])[::-1]\n",
    "    logger.info(f\"predict: {text} -> {predicted[0][0]}\")\n",
    "    enabled = gr.update(interactive=True)\n",
    "    return dict(predicted), enabled, enabled\n",
    "\n",
    "\n",
    "def feedback(text, category, fb):\n",
    "    category = sorted(list(category.items()), key=lambda x: x[1])[::-1][0][0]\n",
    "    logger.info(f\"feedback: {text} -> {category} -> {fb}\")\n",
    "    disabled = gr.update(interactive=False)\n",
    "    return disabled, disabled\n",
    "\n",
    "\n",
    "def pos_fb(text, category):\n",
    "    return feedback(text, category, \"good\")\n",
    "\n",
    "\n",
    "def neg_fb(text, category):\n",
    "    return feedback(text, category, \"bad\")\n",
    "\n",
    "\n",
    "with gr.Blocks(analytics_enabled=False) as demo:\n",
    "    text = gr.TextArea(\n",
    "        label=\"⚠️ Complaint\",\n",
    "        value=\"ขอให้หน่วยงานที่รับผิดชอบเร่งรัดการจ่ายเงินรางวัลแก่ทนายความอาสาเพราะที่ผ่านมาประสบปัญหาการเบิกจ่ายล่าช้าโดยให้เหตุผลว่าไม่มีงบประมาณเพียงพอ จนเป็นเหตุให้ทนายความอาสาขาดขวัญและกำลังใจในการปฏิบัติหน้าที่ ซึ่งอาจส่งผลกระทบต่อประชาชนที่เป็นผู้ต้องหาได้\",\n",
    "    )\n",
    "    predict_btn = gr.Button(\"🔮 Predict\", variant=\"primary\")\n",
    "    category = gr.Label(label=\"📊 Category\")\n",
    "\n",
    "    with gr.Row():\n",
    "        pos_fb_btn = gr.Button(\"👍 Good Prediction\", interactive=False)\n",
    "        neg_fb_btn = gr.Button(\"👎 Bad Prediction\", interactive=False)\n",
    "\n",
    "    predict_btn.click(predict, inputs=[text], outputs=[category, pos_fb_btn, neg_fb_btn])\n",
    "    pos_fb_btn.click(pos_fb, inputs=[text, category], outputs=[pos_fb_btn, neg_fb_btn])\n",
    "    neg_fb_btn.click(neg_fb, inputs=[text, category], outputs=[pos_fb_btn, neg_fb_btn])\n",
    "\n",
    "\n",
    "demo.launch()"
   ]
  }
 ],
 "metadata": {
  "language_info": {
   "name": "python"
  }
 },
 "nbformat": 4,
 "nbformat_minor": 2
}
